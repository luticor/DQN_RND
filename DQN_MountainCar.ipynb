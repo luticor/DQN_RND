{
 "cells": [
  {
   "cell_type": "markdown",
   "metadata": {},
   "source": [
    "# Illustration of the Problem\n",
    "![](MountainCar.png)"
   ]
  },
  {
   "cell_type": "code",
   "execution_count": 9,
   "metadata": {},
   "outputs": [],
   "source": [
    "import numpy as np\n",
    "import gym\n",
    "import matplotlib.pyplot as plt\n",
    "import torch\n",
    "from torch import nn\n",
    "from collections import deque\n",
    "import random\n",
    "\n",
    "#Test out environment and grab state/action space parameters\n",
    "env = gym.make('MountainCar-v0')\n",
    "n_actions = env.action_space.n\n",
    "shape_obs = env.observation_space.shape\n",
    "env.close()\n",
    "#Action must be 0 (left), 1 (nothing), or 2 (right)\n",
    "\n",
    "#Define initial/default parameters\n",
    "class iparams: #initial parameters\n",
    "    def __init__(self):\n",
    "        #default hyperparameters\n",
    "        self.buffersize = int(1E6)\n",
    "        self.batchsize = 128\n",
    "        self.shape_obs = shape_obs\n",
    "        self.n_actions = n_actions\n",
    "        self.nH = [120,120,120]\n",
    "        self.nA = n_actions\n",
    "        self.nS = shape_obs[0]\n",
    "\n",
    "params = iparams()\n",
    "\n",
    "#My favorite print function\n",
    "def printo(string):\n",
    "    print(string,eval(string))\n",
    "\n",
    "#Plotting mountain car trajectory from observations\n",
    "def plot_trajectory(lst_obs):\n",
    "    obs_vec = np.array(lst_obs)\n",
    "    plt.figure(figsize=(10,3))\n",
    "    time_addition = np.array(range(np.shape(obs_vec)[0]))/500\n",
    "    default = np.array(range(1000))/1000*1.8-1.2\n",
    "    plt.plot(obs_vec[:,0],np.sin(3*obs_vec[:,0])+time_addition,'.',\n",
    "        label='Cart Trajectory')\n",
    "    plt.plot(default,np.sin(3*default),label='Ground')\n",
    "    plt.xlim([-1.2,0.6])\n",
    "    plt.ylim([-1,1.1])\n",
    "    plt.xlabel('Horizontal Position')\n",
    "    plt.ylabel('Vertical with Time Addition')\n",
    "    plt.legend()\n",
    "    plt.show()\n",
    "\n",
    "#Data buffer for storing data\n",
    "class bufferobject:\n",
    "    def __init__(self,params):\n",
    "        self.buffersize=params.buffersize\n",
    "        self.defaultbatch = params.batchsize\n",
    "        self.index = 0\n",
    "        #obs_dims = (self.buffersize,) + shape_obs\n",
    "        #self.state = np.zeros(size=obs_dims)\n",
    "        #self.actions = np\n",
    "        #self.state = deque(maxlen=self.buffersize)\n",
    "        #self.action = deque(maxlen=self.buffersize)\n",
    "        #self.reward = deque(maxlen=self.buffersize)\n",
    "        #self.nextstate = deque(maxlen=self.buffersize)\n",
    "        self.experience = deque(maxlen=self.buffersize)\n",
    "\n",
    "    def add(self,s,a,r,s_,d):\n",
    "        #self.state.append(s)\n",
    "        #self.action.append(a)\n",
    "        #self.reward.append(r)\n",
    "        #self.nextstate.append(s_)\n",
    "        #self.index +=1\n",
    "        self.experience.append([s,a,r,s_,d])\n",
    "        self.index +=1\n",
    "\n",
    "    \n",
    "    def sample(self,batch = 32):\n",
    "        #vec = range(min(self.index,self.buffersize))\n",
    "        #ind = np.random.choice(a=vec,b=batchsize)\n",
    "        #self.experience.sample\n",
    "        K = min(self.index,self.buffersize,batch)\n",
    "        samples = random.sample(self.experience, K)\n",
    "        \n",
    "        s,a,r,s_,d = zip(*samples)\n",
    "        s = torch.tensor( s, dtype=torch.float)\n",
    "        a = torch.tensor( a, dtype=torch.long).view(K, -1)\n",
    "        r = torch.tensor( r, dtype=torch.float).view(K, -1)\n",
    "        s_ = torch.tensor( s_, dtype=torch.float)\n",
    "        d = torch.tensor( d, dtype=torch.float)\n",
    "        return s,a,r,s_,d\n"
   ]
  },
  {
   "cell_type": "code",
   "execution_count": 8,
   "metadata": {},
   "outputs": [
    {
     "data": {
      "text/plain": [
       "2"
      ]
     },
     "execution_count": 8,
     "metadata": {},
     "output_type": "execute_result"
    }
   ],
   "source": [
    "env.observation_space.shape[0]"
   ]
  },
  {
   "cell_type": "code",
   "execution_count": 3,
   "metadata": {},
   "outputs": [
    {
     "data": {
      "image/png": "[encoded data removed]",
      "text/plain": [
       "<Figure size 720x216 with 1 Axes>"
      ]
     },
     "metadata": {
      "needs_background": "light"
     },
     "output_type": "display_data"
    }
   ],
   "source": [
    "#Test Episode for Environment/Buffer\n",
    "env = gym.make('MountainCar-v0')\n",
    "s = env.reset()\n",
    "buffer = bufferobject(params)\n",
    "#printo('env.action_space')\n",
    "#printo('env.observation_space')\n",
    "#Action must be 0 (left), 1 (nothing), or 2 (right)\n",
    "#observation, reward, done, _  = env.step(2) \n",
    "#printo('observation, reward, done')\n",
    "\n",
    "lst_obs = []\n",
    "d=False\n",
    "while d==False:\n",
    "\n",
    "    a = np.random.choice([0,1,2])\n",
    "    s_, r, d, _ = env.step(a)\n",
    "    buffer.add(s,a,r,s_,d)\n",
    "    lst_obs.append(s)\n",
    "    s =  s_\n",
    "    _,actions,_,_,_ = buffer.sample(batch=5)\n",
    "    #printo('actions')\n",
    "plot_trajectory(lst_obs)\n",
    "\n",
    "env.close()"
   ]
  },
  {
   "cell_type": "code",
   "execution_count": null,
   "metadata": {},
   "outputs": [],
   "source": [
    "#Define Q network\n",
    "class Qnet(torch.nn.module):\n",
    "    def __init__(self,params):\n",
    "        super(Qnet, self).__init__()\n",
    "        self.nS = params.nS\n",
    "        self.nH = params.nH\n",
    "        self.nA = params.nA\n",
    "        self.layers = nn.Modulelist([])\n",
    "        \n",
    "        self.layers.append(nn.Linear(self.nS,self.nH[0]))\n",
    "        for ind in range(len(self.nH)):\n",
    "            self.layers.append(nn.Linear)\n",
    "        self.layers.append(nn.Linear(self.nH[-1],self.nA))\n"
   ]
  },
  {
   "cell_type": "code",
   "execution_count": 74,
   "metadata": {},
   "outputs": [
    {
     "name": "stdout",
     "output_type": "stream",
     "text": [
      "actionspace Discrete(3)\n",
      "observationspace Box([-1.2  -0.07], [0.6  0.07], (2,), float32)\n",
      "env.observation_space.shape (2,)\n",
      "env.action_space.n 3\n",
      "dims (4, 2)\n",
      "[[0. 0.]\n",
      " [0. 0.]\n",
      " [0. 0.]\n",
      " [0. 0.]]\n",
      "deque([array([[3, 4],\n",
      "       [6, 7]]), array([1, 2])], maxlen=5)\n",
      "d 4\n"
     ]
    },
    {
     "ename": "SyntaxError",
     "evalue": "invalid syntax (<string>, line 1)",
     "output_type": "error",
     "traceback": [
      "Traceback \u001b[0;36m(most recent call last)\u001b[0m:\n",
      "  File \u001b[1;32m\"/home/luticor/anaconda3/envs/torchenv/lib/python3.9/site-packages/IPython/core/interactiveshell.py\"\u001b[0m, line \u001b[1;32m3444\u001b[0m, in \u001b[1;35mrun_code\u001b[0m\n    exec(code_obj, self.user_global_ns, self.user_ns)\n",
      "  File \u001b[1;32m\"/tmp/ipykernel_752/1000968240.py\"\u001b[0m, line \u001b[1;32m28\u001b[0m, in \u001b[1;35m<module>\u001b[0m\n    printo('testdeque(0:1)')\n",
      "\u001b[0;36m  File \u001b[0;32m\"/tmp/ipykernel_752/2320446706.py\"\u001b[0;36m, line \u001b[0;32m25\u001b[0;36m, in \u001b[0;35mprinto\u001b[0;36m\u001b[0m\n\u001b[0;31m    print(string,eval(string))\u001b[0m\n",
      "\u001b[0;36m  File \u001b[0;32m\"<string>\"\u001b[0;36m, line \u001b[0;32m1\u001b[0m\n\u001b[0;31m    testdeque(0:1)\u001b[0m\n\u001b[0m               ^\u001b[0m\n\u001b[0;31mSyntaxError\u001b[0m\u001b[0;31m:\u001b[0m invalid syntax\n"
     ]
    }
   ],
   "source": [
    "env = gym.make('MountainCar-v0')\n",
    "actionspace = env.action_space\n",
    "observationspace = env.observation_space\n",
    "env.close()\n",
    "\n",
    "printo('actionspace')\n",
    "printo('observationspace')\n",
    "printo('env.observation_space.shape')\n",
    "printo('env.action_space.n')\n",
    "dims = env.observation_space.shape\n",
    "dims = (4,) + dims\n",
    "printo('dims')\n",
    "a = np.zeros(shape = (dims))\n",
    "print(a)\n",
    "\n",
    "\n",
    "testdeque = deque(maxlen=5)\n",
    "b = np.array([[3,4],[6,7]])\n",
    "c = np.array([1,2])\n",
    "testdeque.append(b)\n",
    "testdeque.append(c)\n",
    "print(testdeque)\n",
    "\n",
    "#d = np.random.choice(np.array(range(10)))\n",
    "d = np.random.choice(range(10))\n",
    "printo('d')\n",
    "\n",
    "printo('testdeque(0:1)')"
   ]
  },
  {
   "cell_type": "code",
   "execution_count": null,
   "metadata": {},
   "outputs": [
    {
     "ename": "SyntaxError",
     "evalue": "invalid syntax (4267963725.py, line 1)",
     "output_type": "error",
     "traceback": [
      "\u001b[0;36m  File \u001b[0;32m\"/tmp/ipykernel_752/4267963725.py\"\u001b[0;36m, line \u001b[0;32m1\u001b[0m\n\u001b[0;31m    test = class\u001b[0m\n\u001b[0m           ^\u001b[0m\n\u001b[0;31mSyntaxError\u001b[0m\u001b[0;31m:\u001b[0m invalid syntax\n"
     ]
    }
   ],
   "source": []
  }
 ],
 "metadata": {
  "interpreter": {
   "hash": "4f5189addcb6857fb6010c7331b78e3788874ab921e2d657aa05e85d4165bc61"
  },
  "kernelspec": {
   "display_name": "Python 3.9.7 64-bit ('torchenv': conda)",
   "name": "python3"
  },
  "language_info": {
   "codemirror_mode": {
    "name": "ipython",
    "version": 3
   },
   "file_extension": ".py",
   "mimetype": "text/x-python",
   "name": "python",
   "nbconvert_exporter": "python",
   "pygments_lexer": "ipython3",
   "version": "3.9.7"
  },
  "orig_nbformat": 4
 },
 "nbformat": 4,
 "nbformat_minor": 2
}
